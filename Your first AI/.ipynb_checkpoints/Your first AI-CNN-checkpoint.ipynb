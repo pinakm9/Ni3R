{
 "cells": [
  {
   "cell_type": "markdown",
   "metadata": {},
   "source": [
    "#### Hello Team, I think this is your first encounter with neural networks. This mini-project is to help you understand the various steps of learning with a neural network. This time, together you'll create a simple feed-forward neural net. Complexity of the neural nets that you'll create will keep increasing with time.\n",
    "\n",
    "#### The learning problem: We'll try to create an AI that can recognize handwritten digits in the famous MNIST database (the same one 3Blue1Brown's video series on neural networks is based on, if you haven't watched at least the first two videos in the series, I can guarantee you that you won't find a more clear/visual explanation on the web).\n",
    "\n",
    "#### How it's going to work: Below I have laid out the different steps in the process. Every member's task is to write the part of the code that he/she has been assigned to. If your understanding of how an ANN works is clear, hopefully all your contributions will wake up our AI (even if you don't communicate with each other!). \n",
    "\n",
    "#### We'll be using Keras to implement the neural network as I've said before. Steps are of course sequential. Good luck!\n",
    "\n",
    "# ref: https://machinelearningmastery.com/how-to-develop-a-convolutional-neural-network-from-scratch-for-mnist-handwritten-digit-classification/"
   ]
  },
  {
   "cell_type": "code",
   "execution_count": 1,
   "metadata": {},
   "outputs": [
    {
     "name": "stderr",
     "output_type": "stream",
     "text": [
      "Using TensorFlow backend.\n"
     ]
    }
   ],
   "source": [
    "# import the dataset \n",
    "import numpy as np\n",
    "from keras.datasets import mnist# <--- My contribution to our little AI\n",
    "(trainX, trainy), (testX, testy) = mnist.load_data()"
   ]
  },
  {
   "cell_type": "code",
   "execution_count": 2,
   "metadata": {},
   "outputs": [],
   "source": [
    "# Step - 1: Create the data pipeline to feed the network (To be done by member 1)\n",
    "\"\"\"\n",
    "You have an image (or loads of them) which will give you a numeric feature vector that \n",
    "can be fed to the input layer of the neural net. But is that all the network is hungry for? No.\n",
    "It also requires a label for the image, in this case 0 or 1 or ... or 9. But the output layer of a \n",
    "neural net is often a probability distribution (meaning the sum of all the node-values or the \n",
    "activations of the output layer is 1) and the number of nodes in the output layer = number of \n",
    "different possible labels or class which for this case is 10. This means that you can interpret the \n",
    "activation of the j-th node in the output layer as the probability that the input belongs to the \n",
    "j-th class or has the j-th label. If you think about the cost function, you'll understand that we \n",
    "should convert our rudimentary labels into probability vectors too. So an image depicting 2 should \n",
    "have the label (0,0,1,0,...,0).\n",
    "\"\"\"\n",
    "\n",
    "\"\"\"\n",
    "Your mission should you choose to accept it, is to:\n",
    "1. Create a Python object called digits having two attributes train, test\n",
    "2. Make sure digit.train and digit.test are objects of the same type having two \n",
    "attributes features(=array of all the feature vectors) and labels(=array of all the label vectors).\n",
    "Every element of features is a numeric array representing an image \n",
    "(might be an array of greyscale intensity, might be something else).\n",
    "\"\"\"\n",
    "class Dataset():\n",
    "    def __init__(self,train,test):\n",
    "        self.train = train\n",
    "        self.test = test\n",
    "class Data():\n",
    "    def __init__(self,features,labels):\n",
    "        self.features = features\n",
    "        new_labels=np.zeros([labels.shape[0],10])\n",
    "        for i,label in enumerate(labels):\n",
    "            new_labels[i,label]=1\n",
    "        self.labels= new_labels "
   ]
  },
  {
   "cell_type": "code",
   "execution_count": 3,
   "metadata": {},
   "outputs": [],
   "source": [
    "\n",
    "train=Data(trainX,trainy)\n",
    "test=Data(testX,testy)\n",
    "digits=Dataset(train,test)\n",
    "# to import train features: digits.train.features\n",
    "# to import train features: digits.train.labels\n"
   ]
  },
  {
   "cell_type": "code",
   "execution_count": 4,
   "metadata": {},
   "outputs": [
    {
     "name": "stdout",
     "output_type": "stream",
     "text": [
      "Train on 54000 samples, validate on 6000 samples\n",
      "Epoch 1/20\n",
      "54000/54000 [==============================] - 0s 8us/step - loss: 2.0790 - accuracy: 0.3074 - val_loss: 1.7679 - val_accuracy: 0.5028\n",
      "Epoch 2/20\n",
      "54000/54000 [==============================] - 0s 6us/step - loss: 1.6596 - accuracy: 0.5512 - val_loss: 1.5025 - val_accuracy: 0.6277\n",
      "Epoch 3/20\n",
      "54000/54000 [==============================] - 1s 11us/step - loss: 1.4511 - accuracy: 0.6458 - val_loss: 1.3263 - val_accuracy: 0.7045\n",
      "Epoch 4/20\n",
      "54000/54000 [==============================] - 1s 11us/step - loss: 1.2955 - accuracy: 0.7100 - val_loss: 1.1895 - val_accuracy: 0.7605\n",
      "Epoch 5/20\n",
      "54000/54000 [==============================] - 1s 11us/step - loss: 1.1802 - accuracy: 0.7534 - val_loss: 1.0833 - val_accuracy: 0.8012\n",
      "Epoch 6/20\n",
      "54000/54000 [==============================] - 1s 11us/step - loss: 1.0925 - accuracy: 0.7800 - val_loss: 1.0021 - val_accuracy: 0.8250\n",
      "Epoch 7/20\n",
      "54000/54000 [==============================] - 1s 11us/step - loss: 1.0204 - accuracy: 0.7994 - val_loss: 0.9372 - val_accuracy: 0.8390\n",
      "Epoch 8/20\n",
      "54000/54000 [==============================] - 1s 12us/step - loss: 0.9610 - accuracy: 0.8139 - val_loss: 0.8780 - val_accuracy: 0.8495\n",
      "Epoch 9/20\n",
      "54000/54000 [==============================] - 1s 11us/step - loss: 0.9118 - accuracy: 0.8241 - val_loss: 0.8341 - val_accuracy: 0.8587\n",
      "Epoch 10/20\n",
      "54000/54000 [==============================] - 0s 7us/step - loss: 0.8689 - accuracy: 0.8314 - val_loss: 0.7927 - val_accuracy: 0.8640\n",
      "Epoch 11/20\n",
      "54000/54000 [==============================] - 0s 5us/step - loss: 0.8318 - accuracy: 0.8396 - val_loss: 0.7590 - val_accuracy: 0.8702\n",
      "Epoch 12/20\n",
      "54000/54000 [==============================] - 0s 7us/step - loss: 0.7970 - accuracy: 0.8460 - val_loss: 0.7293 - val_accuracy: 0.8757\n",
      "Epoch 13/20\n",
      "54000/54000 [==============================] - 0s 7us/step - loss: 0.7681 - accuracy: 0.8494 - val_loss: 0.6987 - val_accuracy: 0.8760\n",
      "Epoch 14/20\n",
      "54000/54000 [==============================] - 0s 7us/step - loss: 0.7419 - accuracy: 0.8540 - val_loss: 0.6769 - val_accuracy: 0.8800\n",
      "Epoch 15/20\n",
      "54000/54000 [==============================] - 0s 7us/step - loss: 0.7180 - accuracy: 0.8592 - val_loss: 0.6531 - val_accuracy: 0.8867\n",
      "Epoch 16/20\n",
      "54000/54000 [==============================] - 0s 7us/step - loss: 0.6952 - accuracy: 0.8616 - val_loss: 0.6318 - val_accuracy: 0.8877\n",
      "Epoch 17/20\n",
      "54000/54000 [==============================] - 0s 7us/step - loss: 0.6753 - accuracy: 0.8654 - val_loss: 0.6134 - val_accuracy: 0.8888\n",
      "Epoch 18/20\n",
      "54000/54000 [==============================] - 0s 7us/step - loss: 0.6570 - accuracy: 0.8673 - val_loss: 0.5962 - val_accuracy: 0.8927\n",
      "Epoch 19/20\n",
      "54000/54000 [==============================] - 0s 7us/step - loss: 0.6401 - accuracy: 0.8709 - val_loss: 0.5802 - val_accuracy: 0.8925\n",
      "Epoch 20/20\n",
      "54000/54000 [==============================] - 0s 7us/step - loss: 0.6253 - accuracy: 0.8718 - val_loss: 0.5661 - val_accuracy: 0.8962\n"
     ]
    }
   ],
   "source": [
    "from keras.models import Sequential\n",
    "from keras.layers import Flatten,Dense,Activation\n",
    "# Step - 2: Design the network (To be done by member 2)\n",
    "\"\"\"\n",
    "The feature and label vectors have already determined the number of nodes in the input, output layers.\n",
    "But so many things are still unknown! Like the number of hidden layers, the number of nodes in each \n",
    "hidden layer, the activation functions.... Your duty might look heavy but I assure you it's only a \n",
    "few lines of code.\n",
    "\"\"\"\n",
    "\n",
    "\"\"\"\n",
    "The set of codes here achieve the following tasks:\n",
    "1. Create a Sequential object and name it model.\n",
    "2. Add input, hidden and output layers to it with proper activation functions.\n",
    "3. Make sure the activation function for the output layer is softmax, otherwise \n",
    "we won't get a probability vector as the output! \n",
    "4. Compile the model i.e. choose a loss function and optimizer for our neural net.\n",
    "5. Learn from the training samples using model.fit with a proper number of epochs \n",
    "and batch_size and store the result in an object named learning_history.\n",
    "\"\"\"\n",
    "\n",
    "#Create a model by instantiating an object of the class sequential\n",
    "model=Sequential()\n",
    "\n",
    "#We need to add layers to our model by specifying no. of neurons and activation \n",
    "#function along with other parameters set to their default values\n",
    "\n",
    "\"\"\"A dense layer is a type of layer where each neuron is connected to \n",
    "every other neuron in the previous layer\"\"\"\n",
    "#The first layer\n",
    "model.add(Flatten(input_shape=(28,28)))\n",
    "\n",
    "#The Hidden Layers:relu is rectified linear(look up wikipedia)\n",
    "model.add(Dense(32,activation='sigmoid', input_shape=(28*28,)))\n",
    "#model.add(Dense(256,activation='relu'))    \n",
    "\n",
    "#Output layer must have 'softmax' activation(look up wikipedia)as we want probabilities in the output layer.\n",
    "model.add(Dense(10,activation='softmax'))\n",
    "\n",
    "#The Last step is to compile the model by specifying the cost-function \n",
    "#and the optimization method used to learn the parameters(weights of the NN)\n",
    "model.compile(loss='categorical_crossentropy',optimizer='sgd',metrics=['accuracy'])\n",
    "\n",
    "#Now train the data on the training Data Set and evlaute on test Data set\n",
    "learning_history=model.fit(digits.train.features,train.labels,batch_size=1000,epochs=20,shuffle=True,validation_split=.1)\n",
    "\n",
    "# Saving the model\n",
    "#model.save('knowledge.h5')\n",
    "\n",
    "# If one wants to delete the current model in memory\n",
    "#del model\n",
    "\n"
   ]
  },
  {
   "cell_type": "code",
   "execution_count": 5,
   "metadata": {},
   "outputs": [],
   "source": [
    "\n",
    "# Saving the model\n",
    "model.save('knowledge.h5')\n"
   ]
  },
  {
   "cell_type": "code",
   "execution_count": 6,
   "metadata": {},
   "outputs": [
    {
     "name": "stdout",
     "output_type": "stream",
     "text": [
      "10000/10000 [==============================] - 0s 12us/step\n",
      "60000/60000 [==============================] - 1s 12us/step\n",
      "Train score:0.6103  Test Score: 0.6132 \n",
      "Train Accuracy: 87.66 Test Accuracy: 87.47\n"
     ]
    }
   ],
   "source": [
    "# Step - 3: Save/Load and Test our AI (To be done by member 3)\n",
    "# Loading the model\n",
    "from keras.models import load_model\n",
    "our_1st_ai=load_model('knowledge.h5')\n",
    "\n",
    "\"\"\"\n",
    "Last but not the least:\n",
    "1. Save our model as knowledge.h5 file in the same folder as this notebook for future use.\n",
    "2. Load the neural network saved in knowledge.h5 into an object named our_1st_ai.\n",
    "3. Output the accuracy score of our_1st_ai on the training and test samples separately.\n",
    "4. Plot the loss function and model accuracy as a function of epochs using learning_history. \n",
    "\"\"\"\n",
    "\n",
    "score_test,acc_test=model.evaluate(digits.test.features,digits.test.labels,batch_size=100)\n",
    "score_train,acc_train=model.evaluate(digits.train.features,digits.train.labels,batch_size=100)\n",
    "print('Train score:%.4f '%score_train,'Test Score: %.4f '%score_test)\n",
    "print('Train Accuracy: %.2f'%(acc_train*100),'Test Accuracy: %.2f'%(acc_test*100))"
   ]
  },
  {
   "cell_type": "code",
   "execution_count": 7,
   "metadata": {},
   "outputs": [
    {
     "name": "stdout",
     "output_type": "stream",
     "text": [
      "Model: \"sequential_1\"\n",
      "_________________________________________________________________\n",
      "Layer (type)                 Output Shape              Param #   \n",
      "=================================================================\n",
      "flatten_1 (Flatten)          (None, 784)               0         \n",
      "_________________________________________________________________\n",
      "dense_1 (Dense)              (None, 32)                25120     \n",
      "_________________________________________________________________\n",
      "dense_2 (Dense)              (None, 10)                330       \n",
      "=================================================================\n",
      "Total params: 25,450\n",
      "Trainable params: 25,450\n",
      "Non-trainable params: 0\n",
      "_________________________________________________________________\n"
     ]
    }
   ],
   "source": [
    "model.summary()"
   ]
  },
  {
   "cell_type": "code",
   "execution_count": 8,
   "metadata": {},
   "outputs": [],
   "source": [
    "import matplotlib.pyplot as plt\n",
    "plt.figure(figsize=(7,7))\n",
    "plt.plot(model.history.history['accuracy'])\n",
    "plt.plot(model.history.history['val_accuracy'])\n",
    "plt.plot(model.history.history['loss'])\n",
    "plt.title('model accuracy')\n",
    "plt.axhline(1,linestyle='dashed')\n",
    "plt.ylabel('accuracy')\n",
    "plt.xlabel('epoch')\n",
    "plt.legend(['training', 'validation','loss'], loc='best')\n",
    "plt.grid()"
   ]
  },
  {
   "cell_type": "code",
   "execution_count": 9,
   "metadata": {},
   "outputs": [
    {
     "data": {
      "text/plain": [
       "{'whiskers': [<matplotlib.lines.Line2D at 0x7fc9e46440b8>,\n",
       "  <matplotlib.lines.Line2D at 0x7fc9e46446d8>],\n",
       " 'caps': [<matplotlib.lines.Line2D at 0x7fc9e4644a20>,\n",
       "  <matplotlib.lines.Line2D at 0x7fc9e4644d68>],\n",
       " 'boxes': [<matplotlib.lines.Line2D at 0x7fc9e4644208>],\n",
       " 'medians': [<matplotlib.lines.Line2D at 0x7fc9e464f0f0>],\n",
       " 'fliers': [<matplotlib.lines.Line2D at 0x7fc9e464f438>],\n",
       " 'means': []}"
      ]
     },
     "execution_count": 9,
     "metadata": {},
     "output_type": "execute_result"
    },
    {
     "data": {
      "image/png": "[encoded data removed]",
      "text/plain": [
       "<Figure size 432x288 with 1 Axes>"
      ]
     },
     "metadata": {
      "needs_background": "light"
     },
     "output_type": "display_data"
    }
   ],
   "source": [
    "plt.boxplot(model.history.history['accuracy'])\n"
   ]
  },
  {
   "cell_type": "code",
   "execution_count": 10,
   "metadata": {},
   "outputs": [
    {
     "name": "stderr",
     "output_type": "stream",
     "text": [
      "/home/srashti/anaconda3/lib/python3.7/site-packages/keras_preprocessing/image/utils.py:104: UserWarning: grayscale is deprecated. Please use color_mode = \"grayscale\"\n",
      "  warnings.warn('grayscale is deprecated. Please use '\n"
     ]
    },
    {
     "name": "stdout",
     "output_type": "stream",
     "text": [
      "7\n"
     ]
    }
   ],
   "source": [
    "# make a prediction for a an image.\n",
    "from keras.preprocessing.image import load_img\n",
    "from keras.preprocessing.image import img_to_array\n",
    "from keras.models import load_model\n",
    "\n",
    "# load and prepare the image\n",
    "def load_image(filename):\n",
    "    # load the image\n",
    "    img = load_img(filename, grayscale=True, target_size=(28, 28))\n",
    "    # convert to array\n",
    "    img = img_to_array(img)\n",
    "    # reshape into a single sample with 1 channel\n",
    "    img = img.reshape( 1,28, 28)\n",
    "    # prepare pixel data\n",
    "    img = img.astype('float32')\n",
    "    img = img / 255.0\n",
    "    return img\n",
    "\n",
    "# load an image and predict the class\n",
    "def run_example():\n",
    "    # load the image\n",
    "    img = load_image('sample_image.png')\n",
    "    # load model\n",
    "    model = load_model('knowledge.h5')\n",
    "    # predict the class\n",
    "    digit = model.predict_classes(img)\n",
    "    print(digit[0])\n",
    "# entry point, run the example\n",
    "run_example()"
   ]
  }
 ],
 "metadata": {
  "kernelspec": {
   "display_name": "Python 3",
   "language": "python",
   "name": "python3"
  },
  "language_info": {
   "codemirror_mode": {
    "name": "ipython",
    "version": 3
   },
   "file_extension": ".py",
   "mimetype": "text/x-python",
   "name": "python",
   "nbconvert_exporter": "python",
   "pygments_lexer": "ipython3",
   "version": "3.7.0"
  }
 },
 "nbformat": 4,
 "nbformat_minor": 4
}
