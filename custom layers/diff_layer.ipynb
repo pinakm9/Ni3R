{
  "nbformat": 4,
  "nbformat_minor": 0,
  "metadata": {
    "colab": {
      "name": "diff_layer.ipynb",
      "provenance": []
    },
    "kernelspec": {
      "name": "python3",
      "display_name": "Python 3"
    }
  },
  "cells": [
    {
      "cell_type": "code",
      "metadata": {
        "id": "dFh2y3XUj8NR",
        "colab_type": "code",
        "colab": {}
      },
      "source": [
        "import numpy as np\n",
        "import tensorflow as tf"
      ],
      "execution_count": 1,
      "outputs": []
    },
    {
      "cell_type": "code",
      "metadata": {
        "id": "_FFZtKA9kBQP",
        "colab_type": "code",
        "colab": {}
      },
      "source": [
        "class PowerLayer(tf.keras.layers.Layer):\n",
        "  def __init__(self, power, dtype = tf.float64):\n",
        "    super(PowerLayer, self).__init__(dtype = dtype)\n",
        "    self.power  = power\n",
        "  \n",
        "  def call(self, inputs):\n",
        "    return tf.math.pow(inputs, self.power)"
      ],
      "execution_count": 5,
      "outputs": []
    },
    {
      "cell_type": "code",
      "metadata": {
        "id": "e3iYWiyap9UB",
        "colab_type": "code",
        "colab": {}
      },
      "source": [
        "class DiffLayer(tf.keras.layers.Layer):\n",
        "  def __init__(self, func_layer, dtype = tf.float64):\n",
        "    super(DiffLayer, self).__init__(dtype = dtype)\n",
        "    self.func = func_layer\n",
        "    self.inputs = None \n",
        "    \n",
        "  def call(self, inputs):\n",
        "    self.inputs = inputs\n",
        "    with tf.GradientTape() as tape1:\n",
        "      tape1.watch(self.inputs)\n",
        "      df = tape1.gradient(self.func(self.inputs), self.inputs)\n",
        "      #with tf.GradientTape() as tape2:\n",
        "    return df"
      ],
      "execution_count": 17,
      "outputs": []
    },
    {
      "cell_type": "code",
      "metadata": {
        "id": "XlcufI051MiZ",
        "colab_type": "code",
        "colab": {}
      },
      "source": [
        "x = tf.constant([[1, 2], [3, 4]], dtype = tf.float64)"
      ],
      "execution_count": 8,
      "outputs": []
    },
    {
      "cell_type": "code",
      "metadata": {
        "id": "POUpupuq1Usx",
        "colab_type": "code",
        "colab": {
          "base_uri": "https://localhost:8080/",
          "height": 68
        },
        "outputId": "e6ce64ef-7467-4fef-f4a6-c0a8b4c01062"
      },
      "source": [
        "pl = PowerLayer(3)\n",
        "pl(x)"
      ],
      "execution_count": 9,
      "outputs": [
        {
          "output_type": "execute_result",
          "data": {
            "text/plain": [
              "<tf.Tensor: shape=(2, 2), dtype=float64, numpy=\n",
              "array([[ 1.,  8.],\n",
              "       [27., 64.]])>"
            ]
          },
          "metadata": {
            "tags": []
          },
          "execution_count": 9
        }
      ]
    },
    {
      "cell_type": "code",
      "metadata": {
        "id": "fVuKpHVY1gep",
        "colab_type": "code",
        "colab": {
          "base_uri": "https://localhost:8080/",
          "height": 68
        },
        "outputId": "855ff5bc-7495-4097-cf4a-6211e39d1adc"
      },
      "source": [
        "dl = DiffLayer(pl)\n",
        "dl2 = DiffLayer(dl)\n",
        "dl2(x)"
      ],
      "execution_count": 18,
      "outputs": [
        {
          "output_type": "execute_result",
          "data": {
            "text/plain": [
              "<tf.Tensor: shape=(2, 2), dtype=float64, numpy=\n",
              "array([[ 6., 12.],\n",
              "       [18., 24.]])>"
            ]
          },
          "metadata": {
            "tags": []
          },
          "execution_count": 18
        }
      ]
    },
    {
      "cell_type": "code",
      "metadata": {
        "id": "VfWyDHRO1xUU",
        "colab_type": "code",
        "colab": {}
      },
      "source": [
        ""
      ],
      "execution_count": null,
      "outputs": []
    }
  ]
}